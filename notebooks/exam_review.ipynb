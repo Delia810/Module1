{
 "cells": [
  {
   "cell_type": "markdown",
   "metadata": {},
   "source": [
    "# Module 1 Exam Review\n",
    "\n",
    "There are a few \"groups\" of questions here.\n",
    "\n",
    "The \"Python Basics\" questions cover content from the summer pre-course -- which we include here as a reminder that these concepts are fair game for the exam.\n",
    "\n",
    "We also have some pandas questions and some theory questions.\n",
    "\n",
    "Your exam will be done on pen and paper. Some of these questions ask you to write code. This is intentional. Your exam will contain programming questions. Most of these will be either \"fill in the blank\"  or \"multiple choice\". You should use the programming practice in this notebook to review programming concepts so you are prepared to write out similar code by hand during the exam."
   ]
  },
  {
   "cell_type": "markdown",
   "metadata": {},
   "source": [
    "## Python Basics 1\n",
    "\n",
    "Describe the type and content of these expressions:   \n",
    "\n",
    "1. `x = 2` \n",
    "2. `y = 3.0`\n",
    "3. `z = \"3.0\"`\n",
    "4. `x/y`\n",
    "5. `letters = 'abcd'`\n",
    "6. `letters[-1]`\n",
    "7. `xyz = [x, y, z]`\n",
    "8. `xyz[1]`\n",
    "9. `abcd = list(letters)`\n",
    "10. `abcd[-2]`\n",
    "11. `case = {'a': 'A', 'b': 'B', 'c': 'C'}` \n",
    "12. `case['c']` \n",
    "13. `2 >= 1`\n",
    "14. `x == 2` \n",
    "15. `h = \"foo\" + \"bar\"`\n",
    "16. `i = (1 != 0)`"
   ]
  },
  {
   "cell_type": "markdown",
   "metadata": {},
   "source": [
    "## Python Basics 2\n",
    "\n",
    "Explain the code below -- briefly -- in a Markdown cell.  What happens if we change the first line to `torf = False`? \n",
    "\n",
    "``` python\n",
    "torf = True\n",
    "\n",
    "if torf: \n",
    "    x = 1\n",
    "else:\n",
    "    x = 2\n",
    "    \n",
    "print('x =', x) \n",
    "```"
   ]
  },
  {
   "cell_type": "markdown",
   "metadata": {},
   "source": [
    "## Pandas 1\n",
    "\n",
    "Next up:  We explore the Census's *Business Dynamics Statistics*, a huge collection of data about firms.  We've extracted a small piece of one of their databases that includes these variables for 2013:\n",
    "\n",
    "* `Size`:  size category of firms based on number of employees \n",
    "* `Firms`:  number of firms in this size category\n",
    "* `Emp`:  number of employees in this size category \n",
    "\n",
    "Run the code cell below to load the data and use the result to answer these questions:  \n",
    "\n",
    "(a) What type of object is `bsd`?\n",
    "\n",
    "(b) What are its dimensions?\n",
    "\n",
    "(c) What are its column labels?  Row labels?\n",
    "\n",
    "(d) What dtypes are the columns?   "
   ]
  },
  {
   "cell_type": "code",
   "execution_count": null,
   "metadata": {},
   "outputs": [],
   "source": [
    "data = {'Size': ['1 to 4', '5 to 9', '10 to 19', '20 to 49', '50 to 99',\n",
    "                 '100 to 249', '250 to 499', '500 to 999', '1000 to 2499',\n",
    "                 '2500 to 4999', '5000 to 9999', '10000+'], \n",
    "        'Firms': [2846416, 1020772, 598153, 373345, 115544, 63845,\n",
    "                  19389, 9588, 6088, 2287, 1250, 1357], \n",
    "        'Emp': [5998912, 6714924, 8151891, 11425545, 8055535, 9788341, \n",
    "                6611734, 6340775, 8321486, 6738218, 6559020, 32556671]}\n",
    "bds = pd.DataFrame(data) \n",
    "bds = bds.set_index('Size')"
   ]
  },
  {
   "cell_type": "markdown",
   "metadata": {},
   "source": [
    "## Pandas 2\n",
    "\n",
    "Continuing with the same data:  \n",
    "\n",
    "(a) Create a new variable `AvgEmp` equal to the ratio of `Emp` to `Firms` and add it as a new column in `bsd`.\n",
    "\n",
    "(b) Use a dataframe method to change the name of `Emp` to `Employees`. \n",
    "\n",
    "(c) Create a bar chart of the number of employees in each size category.  "
   ]
  },
  {
   "cell_type": "markdown",
   "metadata": {},
   "source": [
    "## Pandas 3\n",
    "\n",
    "Still continuing with the same data:  \n",
    "\n",
    "(a) Create figure and axis objects.  \n",
    "\n",
    "(b) Add a horizontal bar chart of the number of firms in each category to the axis object you created. \n",
    "\n",
    "(c) Make the bars red. \n",
    "\n",
    "(d) Add a title.\n",
    "\n",
    "(e) Change the style to `fivethirtyeight`.  "
   ]
  },
  {
   "cell_type": "markdown",
   "metadata": {},
   "source": [
    "## Pandas 4"
   ]
  },
  {
   "cell_type": "markdown",
   "metadata": {},
   "source": [
    "Suppose you have a DataFrame `df` with columns `customer_id`, `date`, `order_id`, `item_id`, `price`, and `quantity`. \n",
    "\n",
    "Each row of this DataFrame represents one item in an order. Orders are distinguished by `order_id`.\n",
    "\n",
    "Describe how you would do the following (showing code would be a very appropriate way to show your thoughts):\n",
    "\n",
    "1. Add a new column called `revenue` that shows the revenue for each row.\n",
    "2. Compute total revenue across all orders (a scalar)\n",
    "3. Compute total revenue for each customer (a series)\n",
    "4. Identify The item with the highest total number of units sold\n",
    "5. Identify The item_id with the higest price\n",
    "6. Compute the average revenue per order\n",
    "7. Compute a rolling average of weekly revenue\n",
    "8. The day of the week with the highest total revenue"
   ]
  },
  {
   "cell_type": "markdown",
   "metadata": {},
   "source": [
    "## Theory 1\n",
    "\n",
    "- Given a statistical model $f(Y | \\theta)$, describe the difference between the direct and inverse problems."
   ]
  },
  {
   "cell_type": "markdown",
   "metadata": {},
   "source": [
    "## Theory 2\n",
    "\n",
    "Suppose you are the following transition matrix `P` a  discrete-state Markov Chain:\n",
    "\n",
    "```python\n",
    "import numpy as np \n",
    "\n",
    "P = np.array([\n",
    "    [0.4, 0.4, 0.2],\n",
    "    [0.8, 0.1, 0.1],\n",
    "    [0, 0, 1.0]\n",
    "])\n",
    "```\n",
    "\n",
    "Answer the following questions:\n",
    "\n",
    "1. How many states are represented by `P`\n",
    "2. What is the probability of transitioning from state `0` to state `0`?\n",
    "3. What is the probability of transitioning from state `0` to state `2`?\n",
    "4. What is the unique stationary distribution for this Markov Chain?\n",
    "5. Suppose the distribution of state values at time `t` is `[0.1, 0.8, 0.1]`. What is the distribution of state values at time `t+1`?"
   ]
  },
  {
   "cell_type": "markdown",
   "metadata": {},
   "source": [
    "## Theory 3\n",
    "\n",
    "1. List 3 discrete probability distributions.\n",
    "2. List 3 continuous probability distributions\n",
    "3. What does it mean for a probability distribution to have positive skewness?"
   ]
  },
  {
   "cell_type": "markdown",
   "metadata": {},
   "source": []
  }
 ],
 "metadata": {
  "language_info": {
   "name": "python"
  },
  "orig_nbformat": 4
 },
 "nbformat": 4,
 "nbformat_minor": 2
}
